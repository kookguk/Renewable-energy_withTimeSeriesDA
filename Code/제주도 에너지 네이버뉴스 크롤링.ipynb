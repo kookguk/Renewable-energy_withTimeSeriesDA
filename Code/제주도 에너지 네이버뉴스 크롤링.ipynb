{
 "cells": [
  {
   "cell_type": "markdown",
   "id": "e416d9e5-66f9-44c8-8650-d39da398ecad",
   "metadata": {},
   "source": [
    "## 1. 라이브러리 호출"
   ]
  },
  {
   "cell_type": "code",
   "execution_count": 1,
   "id": "7bbbf486",
   "metadata": {},
   "outputs": [],
   "source": [
    "import pandas as pd\n",
    "import numpy as np\n",
    "import time\n",
    "import re\n",
    "\n",
    "from bs4 import BeautifulSoup\n",
    "from datetime import datetime\n",
    "from tqdm import tqdm\n",
    "import requests\n",
    "\n",
    "path = \"/Users/kook/Desktop/\""
   ]
  },
  {
   "cell_type": "markdown",
   "id": "47a046af-cfc9-4daf-8cd1-3c87bee6df3b",
   "metadata": {},
   "source": [
    "## 2. 검색 키워드 및 개수 입력"
   ]
  },
  {
   "cell_type": "code",
   "execution_count": 2,
   "id": "abfa8a73",
   "metadata": {
    "scrolled": true
   },
   "outputs": [
    {
     "name": "stdin",
     "output_type": "stream",
     "text": [
      "검색할 키워드를 입력해주세요:  제주도 에너지\n",
      "\n",
      "몇 개의 뉴스를 크롤링할지 입력해주세요. ex) 1000(숫자만입력):  500\n"
     ]
    }
   ],
   "source": [
    "# 필요한 키워드 입력\n",
    "search_content = input(\"검색할 키워드를 입력해주세요: \")\n",
    "max_news = int(input(\"\\n몇 개의 뉴스를 크롤링할지 입력해주세요. ex) 1000(숫자만입력): \"))"
   ]
  },
  {
   "cell_type": "markdown",
   "id": "9757f6e3-482d-46b4-8e15-e035ad44facf",
   "metadata": {},
   "source": [
    "## 3. 검색 기간 설정"
   ]
  },
  {
   "cell_type": "code",
   "execution_count": 3,
   "id": "b303925f",
   "metadata": {},
   "outputs": [],
   "source": [
    "# 크롤링할 기간 설정\n",
    "# ex) 2023년 금산인삼축제 기간: 2023.10.03 ~ 2023.10.13\n",
    "# 따라서 축제 시작 전 3개월간의 뉴스를 크롤링\n",
    "startday = [\"2024.01.01\"]\n",
    "endday = [\"2024.05.31\"]"
   ]
  },
  {
   "cell_type": "code",
   "execution_count": 4,
   "id": "35f5cc8a",
   "metadata": {
    "scrolled": true
   },
   "outputs": [
    {
     "name": "stdout",
     "output_type": "stream",
     "text": [
      "검색 항목 :  제주도 에너지\n",
      "뉴스 최대 개수 :  500\n"
     ]
    }
   ],
   "source": [
    "print(\"검색 항목 : \", search_content)\n",
    "print(\"뉴스 최대 개수 : \", max_news)"
   ]
  },
  {
   "cell_type": "markdown",
   "id": "3ef3d63e-a0dd-4e15-925d-2c040649c9ee",
   "metadata": {},
   "source": [
    "## 4. 크롤링, 파싱"
   ]
  },
  {
   "cell_type": "code",
   "execution_count": 5,
   "id": "abdc068e",
   "metadata": {},
   "outputs": [],
   "source": [
    "# URL crawling 함수\n",
    "# -> Redirect 되지않는 네이버뉴스 max_news개가 추출될때까지 크롤링을 계속하는 함수\n",
    "\n",
    "headers = {\"User-Agent\": \"Mozilla/5.0 (Windows NT 10.0; Win64; x64) Chrome/98.0.4758.102\"}\n",
    "\n",
    "def url_crawling(search_content, start_season, end_season, max_news):\n",
    "    \n",
    "    # 집합 형태로 저장해 중복 url 제거\n",
    "    url_set = set()\n",
    "    for start_day, end_day in zip(start_season, end_season):    \n",
    "        for page in tqdm(range(1, 2000, 10)):\n",
    "            response = requests.get(f\"https://search.naver.com/search.naver?where=news&sm=tab_pge&query={search_content}&start={page}&pd=3&ds={start_day}&de={end_day}\", headers=headers)\n",
    "            # page를 넘기다 page가 없으면 종료\n",
    "            # 200은 HTTP 상태코드중 하나로 OK의 의미를 가짐. 요청이 성공적으로 처리되었음을 나타냄. 200이 아니라는것은 페이지가 없어 페이지를 넘길 수 없다는 의미\n",
    "            if response.status_code != 200:\n",
    "                print(f\"페이지 {page//10}가 없습니다. Exiting.\")\n",
    "                break\n",
    "            html = response.text\n",
    "            soup = BeautifulSoup(html, 'html.parser')\n",
    "            ul = soup.select_one(\"div.group_news > ul.list_news\")\n",
    "\n",
    "            if ul is None:\n",
    "                break\n",
    "            li_list = ul.find_all('li')\n",
    "            for li in li_list:\n",
    "                a_list = li.select('div.news_area > div.news_info > div.info_group > a.info')\n",
    "                for a_tag in a_list:\n",
    "                    href = a_tag.get('href')\n",
    "                    # href 속성값이 \"n.news.naver.com\"(네이버 뉴스)을 포함하는지 확인한다.\n",
    "                    if \"n.news.naver.com\" in href:\n",
    "                        try:\n",
    "                            # request.head()로 추출한 url이 rediret되는지 확인한다. redirect 되지않은 url만 저장한다.\n",
    "                            response = requests.head(href, allow_redirects=True)\n",
    "                            if response.status_code == 200:\n",
    "                                url_set.add(href)\n",
    "                                # 원하는 개수의 기사가 모두 크롤링 되었으면 크롤링 종료\n",
    "                                if len(url_set) >= max_news:\n",
    "                                    return list(url_set)\n",
    "                        except Exception as e:\n",
    "                            print(f\"An error occurred: {e}\")\n",
    "            time.sleep(1)\n",
    "\n",
    "    return list(url_set)"
   ]
  },
  {
   "cell_type": "code",
   "execution_count": 6,
   "id": "9dcd8d7d",
   "metadata": {},
   "outputs": [
    {
     "name": "stderr",
     "output_type": "stream",
     "text": [
      "100%|█████████████████████████████████████████| 200/200 [06:15<00:00,  1.88s/it]\n"
     ]
    },
    {
     "data": {
      "text/plain": [
       "397"
      ]
     },
     "execution_count": 6,
     "metadata": {},
     "output_type": "execute_result"
    }
   ],
   "source": [
    "url = url_crawling(search_content, startday, endday, max_news)\n",
    "len(url)"
   ]
  },
  {
   "cell_type": "markdown",
   "id": "f447956e-895f-4481-a1d3-2170be16a9f8",
   "metadata": {},
   "source": [
    "## 5. 필요 내용 추출, 리스트 담기"
   ]
  },
  {
   "cell_type": "code",
   "execution_count": 7,
   "id": "28861e70",
   "metadata": {},
   "outputs": [],
   "source": [
    "news_url = url"
   ]
  },
  {
   "cell_type": "code",
   "execution_count": 8,
   "id": "fd657dba",
   "metadata": {},
   "outputs": [
    {
     "name": "stderr",
     "output_type": "stream",
     "text": [
      "100%|█████████████████████████████████████████| 397/397 [01:57<00:00,  3.37it/s]\n"
     ]
    }
   ],
   "source": [
    "# 신문사, 제목, 본문 추출\n",
    "news_company = []\n",
    "news_title = []\n",
    "news_content = []\n",
    "\n",
    "for url in tqdm(news_url):\n",
    "    response = requests.get(url, headers=headers)\n",
    "    soup = BeautifulSoup(response.text, 'html.parser')\n",
    "    \n",
    "    company = soup.select_one(\"#ct > div.media_end_head.go_trans > div.media_end_head_top > a > img[alt]\")\n",
    "    news_company.append(company['alt'] if company else 'None')\n",
    "    title = soup.select_one(\"#ct > div.media_end_head.go_trans > div.media_end_head_title > h2\")\n",
    "    news_title.append(title.text if title else 'None')\n",
    "    content = soup.select_one(\"article#dic_area\")\n",
    "    news_content.append(content.text if content else 'None')"
   ]
  },
  {
   "cell_type": "code",
   "execution_count": 9,
   "id": "b8861891",
   "metadata": {},
   "outputs": [
    {
     "data": {
      "text/html": [
       "<div>\n",
       "<style scoped>\n",
       "    .dataframe tbody tr th:only-of-type {\n",
       "        vertical-align: middle;\n",
       "    }\n",
       "\n",
       "    .dataframe tbody tr th {\n",
       "        vertical-align: top;\n",
       "    }\n",
       "\n",
       "    .dataframe thead th {\n",
       "        text-align: right;\n",
       "    }\n",
       "</style>\n",
       "<table border=\"1\" class=\"dataframe\">\n",
       "  <thead>\n",
       "    <tr style=\"text-align: right;\">\n",
       "      <th></th>\n",
       "      <th>company</th>\n",
       "      <th>url</th>\n",
       "      <th>title</th>\n",
       "      <th>content</th>\n",
       "    </tr>\n",
       "  </thead>\n",
       "  <tbody>\n",
       "    <tr>\n",
       "      <th>0</th>\n",
       "      <td>이데일리</td>\n",
       "      <td>https://n.news.naver.com/mnews/article/018/000...</td>\n",
       "      <td>\"뮤지컬 '어쩌면 해피엔딩' 브로드웨이 공연, 꿈만 같아요\"</td>\n",
       "      <td>\\n'윌휴' 콤비 박천휴·윌 애런슨의 K뮤지컬오는 10월 미국 뉴욕 벨라스코 극장 ...</td>\n",
       "    </tr>\n",
       "    <tr>\n",
       "      <th>1</th>\n",
       "      <td>연합뉴스</td>\n",
       "      <td>https://n.news.naver.com/mnews/article/001/001...</td>\n",
       "      <td>[전국 주요 신문 톱뉴스](29일 조간)</td>\n",
       "      <td>\\n\\t\\t\\t▲ 경향신문 = 윤 대통령, 이첩 당일 이종섭에 3차례 전화    ▲...</td>\n",
       "    </tr>\n",
       "    <tr>\n",
       "      <th>2</th>\n",
       "      <td>세계일보</td>\n",
       "      <td>https://n.news.naver.com/mnews/article/022/000...</td>\n",
       "      <td>제주·광주 “국립트라우마치유센터, 정부 지원 요구 공동 대응”</td>\n",
       "      <td>\\n4·3-5·18 교두보, 민주평화·상생 맞손인권·산업·문화·인사교류 등 6개 과...</td>\n",
       "    </tr>\n",
       "    <tr>\n",
       "      <th>3</th>\n",
       "      <td>중앙일보</td>\n",
       "      <td>https://n.news.naver.com/mnews/article/025/000...</td>\n",
       "      <td>미국 지켜주는 미사일?…1기당 163억, 비싸고 말 많은 SM-3 [이철재의 밀담]</td>\n",
       "      <td>\\n\\t\\t\\t  말 많은 무기를 드디어 도입하기로 확정됐다. 해상 탄도미사일 요격...</td>\n",
       "    </tr>\n",
       "    <tr>\n",
       "      <th>4</th>\n",
       "      <td>강원도민일보</td>\n",
       "      <td>https://n.news.naver.com/mnews/article/654/000...</td>\n",
       "      <td>한호연·이철규 후보, 현정부 국정평가 놓고 치열한 공방</td>\n",
       "      <td>\\n22대 총선 동해·태백·삼척·정선 후보자 토론회22대 총선 강원 동해·태백·삼척...</td>\n",
       "    </tr>\n",
       "  </tbody>\n",
       "</table>\n",
       "</div>"
      ],
      "text/plain": [
       "  company                                                url  \\\n",
       "0    이데일리  https://n.news.naver.com/mnews/article/018/000...   \n",
       "1    연합뉴스  https://n.news.naver.com/mnews/article/001/001...   \n",
       "2    세계일보  https://n.news.naver.com/mnews/article/022/000...   \n",
       "3    중앙일보  https://n.news.naver.com/mnews/article/025/000...   \n",
       "4  강원도민일보  https://n.news.naver.com/mnews/article/654/000...   \n",
       "\n",
       "                                            title  \\\n",
       "0               \"뮤지컬 '어쩌면 해피엔딩' 브로드웨이 공연, 꿈만 같아요\"   \n",
       "1                          [전국 주요 신문 톱뉴스](29일 조간)   \n",
       "2              제주·광주 “국립트라우마치유센터, 정부 지원 요구 공동 대응”   \n",
       "3  미국 지켜주는 미사일?…1기당 163억, 비싸고 말 많은 SM-3 [이철재의 밀담]   \n",
       "4                  한호연·이철규 후보, 현정부 국정평가 놓고 치열한 공방   \n",
       "\n",
       "                                             content  \n",
       "0  \\n'윌휴' 콤비 박천휴·윌 애런슨의 K뮤지컬오는 10월 미국 뉴욕 벨라스코 극장 ...  \n",
       "1  \\n\\t\\t\\t▲ 경향신문 = 윤 대통령, 이첩 당일 이종섭에 3차례 전화    ▲...  \n",
       "2  \\n4·3-5·18 교두보, 민주평화·상생 맞손인권·산업·문화·인사교류 등 6개 과...  \n",
       "3  \\n\\t\\t\\t  말 많은 무기를 드디어 도입하기로 확정됐다. 해상 탄도미사일 요격...  \n",
       "4  \\n22대 총선 동해·태백·삼척·정선 후보자 토론회22대 총선 강원 동해·태백·삼척...  "
      ]
     },
     "execution_count": 9,
     "metadata": {},
     "output_type": "execute_result"
    }
   ],
   "source": [
    "# 데이터프레임 생성\n",
    "columns = [\"company\", \"url\", \"title\", \"content\"]\n",
    "\n",
    "data = {\n",
    "    \"company\": news_company,\n",
    "    \"url\": news_url,\n",
    "    \"title\": news_title,\n",
    "    \"content\": news_content\n",
    "}\n",
    "\n",
    "df_news = pd.DataFrame(data, columns=columns)\n",
    "df_news.head()"
   ]
  },
  {
   "cell_type": "markdown",
   "id": "f285a95a-5f93-475a-9d9a-2ba2782b7759",
   "metadata": {},
   "source": [
    "## 6. 중복 뉴스 제거 및 Escape문자 제거"
   ]
  },
  {
   "cell_type": "code",
   "execution_count": 10,
   "id": "af387cc9",
   "metadata": {},
   "outputs": [
    {
     "data": {
      "text/plain": [
       "397"
      ]
     },
     "execution_count": 10,
     "metadata": {},
     "output_type": "execute_result"
    }
   ],
   "source": [
    "len(df_news)"
   ]
  },
  {
   "cell_type": "code",
   "execution_count": 11,
   "id": "b5666f87",
   "metadata": {},
   "outputs": [],
   "source": [
    "# 내용 기준 중복 뉴스 제거\n",
    "df_news = df_news.drop_duplicates(subset=['content'], keep='first')"
   ]
  },
  {
   "cell_type": "code",
   "execution_count": 12,
   "id": "fcac9b82",
   "metadata": {},
   "outputs": [
    {
     "data": {
      "text/plain": [
       "395"
      ]
     },
     "execution_count": 12,
     "metadata": {},
     "output_type": "execute_result"
    }
   ],
   "source": [
    "len(df_news)"
   ]
  },
  {
   "cell_type": "code",
   "execution_count": 13,
   "id": "e9664aaa",
   "metadata": {},
   "outputs": [],
   "source": [
    "# Escape문자 제거\n",
    "df_news['content'] = df_news['content'].apply(lambda x: re.sub(r'\\s+', ' ', x))"
   ]
  },
  {
   "cell_type": "code",
   "execution_count": 14,
   "id": "c424779f",
   "metadata": {},
   "outputs": [
    {
     "data": {
      "text/html": [
       "<div>\n",
       "<style scoped>\n",
       "    .dataframe tbody tr th:only-of-type {\n",
       "        vertical-align: middle;\n",
       "    }\n",
       "\n",
       "    .dataframe tbody tr th {\n",
       "        vertical-align: top;\n",
       "    }\n",
       "\n",
       "    .dataframe thead th {\n",
       "        text-align: right;\n",
       "    }\n",
       "</style>\n",
       "<table border=\"1\" class=\"dataframe\">\n",
       "  <thead>\n",
       "    <tr style=\"text-align: right;\">\n",
       "      <th></th>\n",
       "      <th>company</th>\n",
       "      <th>url</th>\n",
       "      <th>title</th>\n",
       "      <th>content</th>\n",
       "    </tr>\n",
       "  </thead>\n",
       "  <tbody>\n",
       "    <tr>\n",
       "      <th>0</th>\n",
       "      <td>이데일리</td>\n",
       "      <td>https://n.news.naver.com/mnews/article/018/000...</td>\n",
       "      <td>\"뮤지컬 '어쩌면 해피엔딩' 브로드웨이 공연, 꿈만 같아요\"</td>\n",
       "      <td>'윌휴' 콤비 박천휴·윌 애런슨의 K뮤지컬오는 10월 미국 뉴욕 벨라스코 극장 개...</td>\n",
       "    </tr>\n",
       "    <tr>\n",
       "      <th>1</th>\n",
       "      <td>연합뉴스</td>\n",
       "      <td>https://n.news.naver.com/mnews/article/001/001...</td>\n",
       "      <td>[전국 주요 신문 톱뉴스](29일 조간)</td>\n",
       "      <td>▲ 경향신문 = 윤 대통령, 이첩 당일 이종섭에 3차례 전화 ▲ 국민일보 = 채상...</td>\n",
       "    </tr>\n",
       "    <tr>\n",
       "      <th>2</th>\n",
       "      <td>세계일보</td>\n",
       "      <td>https://n.news.naver.com/mnews/article/022/000...</td>\n",
       "      <td>제주·광주 “국립트라우마치유센터, 정부 지원 요구 공동 대응”</td>\n",
       "      <td>4·3-5·18 교두보, 민주평화·상생 맞손인권·산업·문화·인사교류 등 6개 과제...</td>\n",
       "    </tr>\n",
       "    <tr>\n",
       "      <th>3</th>\n",
       "      <td>중앙일보</td>\n",
       "      <td>https://n.news.naver.com/mnews/article/025/000...</td>\n",
       "      <td>미국 지켜주는 미사일?…1기당 163억, 비싸고 말 많은 SM-3 [이철재의 밀담]</td>\n",
       "      <td>말 많은 무기를 드디어 도입하기로 확정됐다. 해상 탄도미사일 요격 미사일인 SM-...</td>\n",
       "    </tr>\n",
       "    <tr>\n",
       "      <th>4</th>\n",
       "      <td>강원도민일보</td>\n",
       "      <td>https://n.news.naver.com/mnews/article/654/000...</td>\n",
       "      <td>한호연·이철규 후보, 현정부 국정평가 놓고 치열한 공방</td>\n",
       "      <td>22대 총선 동해·태백·삼척·정선 후보자 토론회22대 총선 강원 동해·태백·삼척·...</td>\n",
       "    </tr>\n",
       "  </tbody>\n",
       "</table>\n",
       "</div>"
      ],
      "text/plain": [
       "  company                                                url  \\\n",
       "0    이데일리  https://n.news.naver.com/mnews/article/018/000...   \n",
       "1    연합뉴스  https://n.news.naver.com/mnews/article/001/001...   \n",
       "2    세계일보  https://n.news.naver.com/mnews/article/022/000...   \n",
       "3    중앙일보  https://n.news.naver.com/mnews/article/025/000...   \n",
       "4  강원도민일보  https://n.news.naver.com/mnews/article/654/000...   \n",
       "\n",
       "                                            title  \\\n",
       "0               \"뮤지컬 '어쩌면 해피엔딩' 브로드웨이 공연, 꿈만 같아요\"   \n",
       "1                          [전국 주요 신문 톱뉴스](29일 조간)   \n",
       "2              제주·광주 “국립트라우마치유센터, 정부 지원 요구 공동 대응”   \n",
       "3  미국 지켜주는 미사일?…1기당 163억, 비싸고 말 많은 SM-3 [이철재의 밀담]   \n",
       "4                  한호연·이철규 후보, 현정부 국정평가 놓고 치열한 공방   \n",
       "\n",
       "                                             content  \n",
       "0   '윌휴' 콤비 박천휴·윌 애런슨의 K뮤지컬오는 10월 미국 뉴욕 벨라스코 극장 개...  \n",
       "1   ▲ 경향신문 = 윤 대통령, 이첩 당일 이종섭에 3차례 전화 ▲ 국민일보 = 채상...  \n",
       "2   4·3-5·18 교두보, 민주평화·상생 맞손인권·산업·문화·인사교류 등 6개 과제...  \n",
       "3   말 많은 무기를 드디어 도입하기로 확정됐다. 해상 탄도미사일 요격 미사일인 SM-...  \n",
       "4   22대 총선 동해·태백·삼척·정선 후보자 토론회22대 총선 강원 동해·태백·삼척·...  "
      ]
     },
     "execution_count": 14,
     "metadata": {},
     "output_type": "execute_result"
    }
   ],
   "source": [
    "df_news.head()"
   ]
  },
  {
   "cell_type": "code",
   "execution_count": 15,
   "id": "cd2a30da",
   "metadata": {},
   "outputs": [],
   "source": [
    "df_news.to_excel(\"제주도 에너지 뉴스기사 크롤링.xlsx\", index=False)"
   ]
  },
  {
   "cell_type": "code",
   "execution_count": null,
   "id": "80b4d402-5420-49ff-bd99-ed61a5d295ba",
   "metadata": {},
   "outputs": [],
   "source": []
  }
 ],
 "metadata": {
  "kernelspec": {
   "display_name": "Python 3 (ipykernel)",
   "language": "python",
   "name": "python3"
  },
  "language_info": {
   "codemirror_mode": {
    "name": "ipython",
    "version": 3
   },
   "file_extension": ".py",
   "mimetype": "text/x-python",
   "name": "python",
   "nbconvert_exporter": "python",
   "pygments_lexer": "ipython3",
   "version": "3.12.4"
  }
 },
 "nbformat": 4,
 "nbformat_minor": 5
}
